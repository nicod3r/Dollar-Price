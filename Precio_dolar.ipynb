{
  "nbformat": 4,
  "nbformat_minor": 0,
  "metadata": {
    "colab": {
      "provenance": []
    },
    "kernelspec": {
      "name": "python3",
      "display_name": "Python 3"
    },
    "language_info": {
      "name": "python"
    }
  },
  "cells": [
    {
      "cell_type": "markdown",
      "source": [
        "Primero importo todas las librerías"
      ],
      "metadata": {
        "id": "3Kz5dakURHla"
      }
    },
    {
      "cell_type": "code",
      "execution_count": 1,
      "metadata": {
        "id": "0rNdYV3AREQY"
      },
      "outputs": [],
      "source": [
        "from bs4 import BeautifulSoup\n",
        "import requests\n",
        "import time\n",
        "import webbrowser"
      ]
    },
    {
      "cell_type": "markdown",
      "source": [
        "Defino las variables, en este caso solo será el precio del dolar"
      ],
      "metadata": {
        "id": "gDaQBfACRQyb"
      }
    },
    {
      "cell_type": "code",
      "source": [
        "dollar=0"
      ],
      "metadata": {
        "id": "zU5F0xoxRXMX"
      },
      "execution_count": 3,
      "outputs": []
    },
    {
      "cell_type": "markdown",
      "source": [
        "El código buscará el precio del dolar en la página dolar hoy. "
      ],
      "metadata": {
        "id": "jhwZggvCSJNr"
      }
    },
    {
      "cell_type": "code",
      "source": [
        "url = requests.get(\"https://dolarhoy.com/\")\n",
        "soup = BeautifulSoup(url.content, \"html.parser\")\n",
        "resultado = soup.find('div', {'class':'val'})\n",
        "precioaActual_text = resultado.text\n",
        "dollar = precioaActual_text"
      ],
      "metadata": {
        "id": "ou-iQmudRizA"
      },
      "execution_count": 14,
      "outputs": []
    },
    {
      "cell_type": "markdown",
      "source": [
        "El valor del dolar blue es:"
      ],
      "metadata": {
        "id": "h0D7DEFTR2GT"
      }
    },
    {
      "cell_type": "code",
      "source": [
        "print(dollar)"
      ],
      "metadata": {
        "colab": {
          "base_uri": "https://localhost:8080/"
        },
        "id": "_DZuy-RIR5IT",
        "outputId": "536a5abb-0067-40d5-d403-0918e17da708"
      },
      "execution_count": 15,
      "outputs": [
        {
          "output_type": "stream",
          "name": "stdout",
          "text": [
            "$285\n"
          ]
        }
      ]
    }
  ]
}